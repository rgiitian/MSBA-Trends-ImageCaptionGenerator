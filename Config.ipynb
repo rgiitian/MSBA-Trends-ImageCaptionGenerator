{
 "cells": [
  {
   "cell_type": "code",
   "execution_count": 1,
   "id": "f12faa97",
   "metadata": {},
   "outputs": [],
   "source": [
    "# All paths are relative to train_val.py file\n",
    "config = {\n",
    "\t'images_path': 'train_val_data/Flicker8k_Dataset/', #Make sure you put that last slash(/)\n",
    "\t'train_data_path': 'train_val_data/Flickr_8k.trainImages.txt',\n",
    "\t'val_data_path': 'train_val_data/Flickr_8k.devImages.txt',\n",
    "\t'captions_path': 'train_val_data/Flickr8k.token.txt',\n",
    "\t'tokenizer_path': 'model_data/tokenizer.pkl',\n",
    "\t'model_data_path': 'model_data/', #Make sure you put that last slash(/)\n",
    "\t'model_load_path': 'model_data/model_inceptionv3_epoch-20_train_loss-2.4050_val_loss-3.0527.hdf5',\n",
    "\t'num_of_epochs': 20,\n",
    "\t'max_length': 40, #This is set manually after training of model and required for test.py\n",
    "\t'batch_size': 64,\n",
    "\t'beam_search_k':3,\n",
    "\t'test_data_path': 'test_data/', #Make sure you put that last slash(/)\n",
    "\t'model_type': 'inceptionv3', # inceptionv3 or vgg16\n",
    "\t'random_seed': 1035\n",
    "}\n",
    "\n",
    "rnnConfig = {\n",
    "\t'embedding_size': 300,\n",
    "\t'LSTM_units': 256,\n",
    "\t'dense_units': 256,\n",
    "\t'dropout': 0.3\n",
    "}"
   ]
  },
  {
   "cell_type": "code",
   "execution_count": null,
   "id": "040f61ff",
   "metadata": {},
   "outputs": [],
   "source": []
  }
 ],
 "metadata": {
  "kernelspec": {
   "display_name": "Python 3",
   "language": "python",
   "name": "python3"
  },
  "language_info": {
   "codemirror_mode": {
    "name": "ipython",
    "version": 3
   },
   "file_extension": ".py",
   "mimetype": "text/x-python",
   "name": "python",
   "nbconvert_exporter": "python",
   "pygments_lexer": "ipython3",
   "version": "3.6.13"
  }
 },
 "nbformat": 4,
 "nbformat_minor": 5
}
