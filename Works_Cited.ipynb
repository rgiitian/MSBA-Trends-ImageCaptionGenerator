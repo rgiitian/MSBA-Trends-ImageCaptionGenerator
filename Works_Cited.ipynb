{
 "cells": [
  {
   "cell_type": "markdown",
   "id": "8dc9c5a8",
   "metadata": {},
   "source": [
    "# Works Cited\n",
    "\n",
    "### Model Creation and Training Data\n",
    "\n",
    "Dabas, A. (2019, November 22). Image-Caption-Generator. Retrieved from Github: https://github.com/dabasajay/Image-Caption-Generator\n",
    "\n"
   ]
  }
 ],
 "metadata": {
  "kernelspec": {
   "display_name": "sand_box",
   "language": "python",
   "name": "sand_box"
  },
  "language_info": {
   "codemirror_mode": {
    "name": "ipython",
    "version": 3
   },
   "file_extension": ".py",
   "mimetype": "text/x-python",
   "name": "python",
   "nbconvert_exporter": "python",
   "pygments_lexer": "ipython3",
   "version": "3.10.8"
  }
 },
 "nbformat": 4,
 "nbformat_minor": 5
}
